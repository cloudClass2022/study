{
 "cells": [
  {
   "cell_type": "markdown",
   "metadata": {},
   "source": [
    "https://programmers.co.kr/learn/courses/30/lessons/42747"
   ]
  },
  {
   "cell_type": "code",
   "execution_count": 2,
   "metadata": {},
   "outputs": [],
   "source": [
    "def solution(citations):\n",
    "    if (min(citations) == 0) & (max(citations) == 0):\n",
    "        return 0\n",
    "    citations = sorted(citations)\n",
    "    for i in range(len(citations)):\n",
    "        if len(citations[i:]) < citations[i]:\n",
    "            return len(citations[i:])\n",
    "        if len(citations[i:]) <= citations[i]:\n",
    "            return citations[i]"
   ]
  }
 ],
 "metadata": {
  "kernelspec": {
   "display_name": "Python 3",
   "language": "python",
   "name": "python3"
  },
  "language_info": {
   "codemirror_mode": {
    "name": "ipython",
    "version": 3
   },
   "file_extension": ".py",
   "mimetype": "text/x-python",
   "name": "python",
   "nbconvert_exporter": "python",
   "pygments_lexer": "ipython3",
   "version": "3.7.6"
  }
 },
 "nbformat": 4,
 "nbformat_minor": 4
}
