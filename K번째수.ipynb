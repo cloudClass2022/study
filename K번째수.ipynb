{
 "cells": [
  {
   "cell_type": "markdown",
   "metadata": {},
   "source": [
    "https://programmers.co.kr/learn/courses/30/lessons/42748"
   ]
  },
  {
   "cell_type": "code",
   "execution_count": 1,
   "metadata": {},
   "outputs": [],
   "source": [
    "def solution(array, commands):\n",
    "    answer = []\n",
    "    for i in commands: #대입 연산 n번\n",
    "        temp = array[i[0]-1:i[1]] #공간 복잡도 1\n",
    "        if i[2] == 1:\n",
    "            answer.append(min(temp))\n",
    "        elif i[2] == len(temp):\n",
    "            answer.append(max(temp))\n",
    "        else:\n",
    "            temp.sort()\n",
    "            answer.append(temp[i[2]-1])\n",
    "    return answer"
   ]
  }
 ],
 "metadata": {
  "kernelspec": {
   "display_name": "Python 3",
   "language": "python",
   "name": "python3"
  },
  "language_info": {
   "codemirror_mode": {
    "name": "ipython",
    "version": 3
   },
   "file_extension": ".py",
   "mimetype": "text/x-python",
   "name": "python",
   "nbconvert_exporter": "python",
   "pygments_lexer": "ipython3",
   "version": "3.7.6"
  }
 },
 "nbformat": 4,
 "nbformat_minor": 4
}
