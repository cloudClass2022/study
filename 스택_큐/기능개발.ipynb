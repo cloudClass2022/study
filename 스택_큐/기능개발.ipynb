{
 "cells": [
  {
   "cell_type": "code",
   "execution_count": 1,
   "metadata": {},
   "outputs": [],
   "source": [
    "import math\n",
    "\n",
    "def solution(progresses, speeds):\n",
    "    temp = []\n",
    "    for i in range(len(progresses)):\n",
    "        temp.append(math.ceil((100 - progresses[i]) / speeds[i]))\n",
    "\n",
    "    answer = []\n",
    "    max_num = temp[0]\n",
    "    cnt = 0\n",
    "    for i in range(len(temp)):\n",
    "        if max_num < temp[i]:\n",
    "            max_num = temp[i]\n",
    "            answer.append(cnt)\n",
    "            cnt = 1\n",
    "        else:\n",
    "            cnt +=1\n",
    "        if i == len(temp) - 1:\n",
    "            answer.append(cnt)\n",
    "\n",
    "    return answer"
   ]
  },
  {
   "cell_type": "code",
   "execution_count": null,
   "metadata": {},
   "outputs": [],
   "source": []
  }
 ],
 "metadata": {
  "kernelspec": {
   "display_name": "Python 3",
   "language": "python",
   "name": "python3"
  },
  "language_info": {
   "codemirror_mode": {
    "name": "ipython",
    "version": 3
   },
   "file_extension": ".py",
   "mimetype": "text/x-python",
   "name": "python",
   "nbconvert_exporter": "python",
   "pygments_lexer": "ipython3",
   "version": "3.7.6"
  }
 },
 "nbformat": 4,
 "nbformat_minor": 4
}
